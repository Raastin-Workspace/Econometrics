{
 "cells": [
  {
   "cell_type": "code",
   "execution_count": 1,
   "id": "55ca842d",
   "metadata": {},
   "outputs": [],
   "source": [
    "import pandas as pd\n",
    "import numpy as np\n",
    "import seaborn as sns\n",
    "import matplotlib.pyplot as plt\n",
    "import statsmodels.api as sm\n",
    "import statsmodels.formula.api as smf\n",
    "from statsmodels.stats.mediation import Mediation\n",
    "import scipy"
   ]
  },
  {
   "cell_type": "code",
   "execution_count": null,
   "id": "7772c995",
   "metadata": {},
   "outputs": [],
   "source": []
  },
  {
   "cell_type": "code",
   "execution_count": 2,
   "id": "6eb6dd32",
   "metadata": {},
   "outputs": [],
   "source": [
    "df = pd.read_csv('df_clean.csv')"
   ]
  },
  {
   "cell_type": "code",
   "execution_count": 3,
   "id": "752624f8",
   "metadata": {},
   "outputs": [
    {
     "data": {
      "text/html": [
       "<div>\n",
       "<style scoped>\n",
       "    .dataframe tbody tr th:only-of-type {\n",
       "        vertical-align: middle;\n",
       "    }\n",
       "\n",
       "    .dataframe tbody tr th {\n",
       "        vertical-align: top;\n",
       "    }\n",
       "\n",
       "    .dataframe thead th {\n",
       "        text-align: right;\n",
       "    }\n",
       "</style>\n",
       "<table border=\"1\" class=\"dataframe\">\n",
       "  <thead>\n",
       "    <tr style=\"text-align: right;\">\n",
       "      <th></th>\n",
       "      <th>Unnamed: 0</th>\n",
       "      <th>id</th>\n",
       "      <th>time</th>\n",
       "      <th>roa</th>\n",
       "      <th>mbo</th>\n",
       "      <th>cstratemph</th>\n",
       "      <th>size</th>\n",
       "      <th>htech</th>\n",
       "      <th>vertrel</th>\n",
       "      <th>horizrel</th>\n",
       "      <th>geo</th>\n",
       "    </tr>\n",
       "  </thead>\n",
       "  <tbody>\n",
       "    <tr>\n",
       "      <th>0</th>\n",
       "      <td>7</td>\n",
       "      <td>1</td>\n",
       "      <td>1</td>\n",
       "      <td>-4.51</td>\n",
       "      <td>0</td>\n",
       "      <td>0.041937</td>\n",
       "      <td>2.339321</td>\n",
       "      <td>0</td>\n",
       "      <td>-0.005437</td>\n",
       "      <td>0.467234</td>\n",
       "      <td>6464.55600</td>\n",
       "    </tr>\n",
       "    <tr>\n",
       "      <th>1</th>\n",
       "      <td>817</td>\n",
       "      <td>1</td>\n",
       "      <td>2</td>\n",
       "      <td>0.62</td>\n",
       "      <td>0</td>\n",
       "      <td>0.051437</td>\n",
       "      <td>2.329321</td>\n",
       "      <td>0</td>\n",
       "      <td>-0.005437</td>\n",
       "      <td>0.467234</td>\n",
       "      <td>6464.55600</td>\n",
       "    </tr>\n",
       "    <tr>\n",
       "      <th>2</th>\n",
       "      <td>815</td>\n",
       "      <td>1</td>\n",
       "      <td>3</td>\n",
       "      <td>0.58</td>\n",
       "      <td>0</td>\n",
       "      <td>0.141736</td>\n",
       "      <td>2.279322</td>\n",
       "      <td>0</td>\n",
       "      <td>-0.005437</td>\n",
       "      <td>0.467234</td>\n",
       "      <td>6464.55600</td>\n",
       "    </tr>\n",
       "    <tr>\n",
       "      <th>3</th>\n",
       "      <td>666</td>\n",
       "      <td>2</td>\n",
       "      <td>1</td>\n",
       "      <td>0.13</td>\n",
       "      <td>0</td>\n",
       "      <td>-0.001764</td>\n",
       "      <td>2.479322</td>\n",
       "      <td>0</td>\n",
       "      <td>-0.005437</td>\n",
       "      <td>0.467234</td>\n",
       "      <td>-319.64380</td>\n",
       "    </tr>\n",
       "    <tr>\n",
       "      <th>4</th>\n",
       "      <td>649</td>\n",
       "      <td>2</td>\n",
       "      <td>2</td>\n",
       "      <td>0.12</td>\n",
       "      <td>0</td>\n",
       "      <td>-0.002864</td>\n",
       "      <td>2.429321</td>\n",
       "      <td>0</td>\n",
       "      <td>-0.005437</td>\n",
       "      <td>0.467234</td>\n",
       "      <td>-319.64380</td>\n",
       "    </tr>\n",
       "    <tr>\n",
       "      <th>...</th>\n",
       "      <td>...</td>\n",
       "      <td>...</td>\n",
       "      <td>...</td>\n",
       "      <td>...</td>\n",
       "      <td>...</td>\n",
       "      <td>...</td>\n",
       "      <td>...</td>\n",
       "      <td>...</td>\n",
       "      <td>...</td>\n",
       "      <td>...</td>\n",
       "      <td>...</td>\n",
       "    </tr>\n",
       "    <tr>\n",
       "      <th>803</th>\n",
       "      <td>20</td>\n",
       "      <td>241</td>\n",
       "      <td>1</td>\n",
       "      <td>-0.82</td>\n",
       "      <td>1</td>\n",
       "      <td>-0.014164</td>\n",
       "      <td>1.839321</td>\n",
       "      <td>1</td>\n",
       "      <td>-0.003437</td>\n",
       "      <td>-0.172502</td>\n",
       "      <td>-317.35382</td>\n",
       "    </tr>\n",
       "    <tr>\n",
       "      <th>804</th>\n",
       "      <td>38</td>\n",
       "      <td>241</td>\n",
       "      <td>2</td>\n",
       "      <td>-0.32</td>\n",
       "      <td>1</td>\n",
       "      <td>-0.006863</td>\n",
       "      <td>0.319321</td>\n",
       "      <td>1</td>\n",
       "      <td>-0.003437</td>\n",
       "      <td>-0.172502</td>\n",
       "      <td>-317.35382</td>\n",
       "    </tr>\n",
       "    <tr>\n",
       "      <th>805</th>\n",
       "      <td>340</td>\n",
       "      <td>241</td>\n",
       "      <td>3</td>\n",
       "      <td>0.00</td>\n",
       "      <td>1</td>\n",
       "      <td>-0.015763</td>\n",
       "      <td>0.379321</td>\n",
       "      <td>1</td>\n",
       "      <td>-0.003437</td>\n",
       "      <td>-0.172502</td>\n",
       "      <td>-317.35382</td>\n",
       "    </tr>\n",
       "    <tr>\n",
       "      <th>806</th>\n",
       "      <td>354</td>\n",
       "      <td>241</td>\n",
       "      <td>4</td>\n",
       "      <td>0.00</td>\n",
       "      <td>1</td>\n",
       "      <td>-0.010863</td>\n",
       "      <td>0.699321</td>\n",
       "      <td>1</td>\n",
       "      <td>-0.003437</td>\n",
       "      <td>-0.172502</td>\n",
       "      <td>-317.35382</td>\n",
       "    </tr>\n",
       "    <tr>\n",
       "      <th>807</th>\n",
       "      <td>356</td>\n",
       "      <td>241</td>\n",
       "      <td>5</td>\n",
       "      <td>0.00</td>\n",
       "      <td>1</td>\n",
       "      <td>-0.018663</td>\n",
       "      <td>0.789321</td>\n",
       "      <td>1</td>\n",
       "      <td>-0.003437</td>\n",
       "      <td>-0.172502</td>\n",
       "      <td>-317.35382</td>\n",
       "    </tr>\n",
       "  </tbody>\n",
       "</table>\n",
       "<p>808 rows × 11 columns</p>\n",
       "</div>"
      ],
      "text/plain": [
       "     Unnamed: 0   id  time   roa  mbo  cstratemph      size  htech   vertrel  \\\n",
       "0             7    1     1 -4.51    0    0.041937  2.339321      0 -0.005437   \n",
       "1           817    1     2  0.62    0    0.051437  2.329321      0 -0.005437   \n",
       "2           815    1     3  0.58    0    0.141736  2.279322      0 -0.005437   \n",
       "3           666    2     1  0.13    0   -0.001764  2.479322      0 -0.005437   \n",
       "4           649    2     2  0.12    0   -0.002864  2.429321      0 -0.005437   \n",
       "..          ...  ...   ...   ...  ...         ...       ...    ...       ...   \n",
       "803          20  241     1 -0.82    1   -0.014164  1.839321      1 -0.003437   \n",
       "804          38  241     2 -0.32    1   -0.006863  0.319321      1 -0.003437   \n",
       "805         340  241     3  0.00    1   -0.015763  0.379321      1 -0.003437   \n",
       "806         354  241     4  0.00    1   -0.010863  0.699321      1 -0.003437   \n",
       "807         356  241     5  0.00    1   -0.018663  0.789321      1 -0.003437   \n",
       "\n",
       "     horizrel         geo  \n",
       "0    0.467234  6464.55600  \n",
       "1    0.467234  6464.55600  \n",
       "2    0.467234  6464.55600  \n",
       "3    0.467234  -319.64380  \n",
       "4    0.467234  -319.64380  \n",
       "..        ...         ...  \n",
       "803 -0.172502  -317.35382  \n",
       "804 -0.172502  -317.35382  \n",
       "805 -0.172502  -317.35382  \n",
       "806 -0.172502  -317.35382  \n",
       "807 -0.172502  -317.35382  \n",
       "\n",
       "[808 rows x 11 columns]"
      ]
     },
     "execution_count": 3,
     "metadata": {},
     "output_type": "execute_result"
    }
   ],
   "source": [
    "df"
   ]
  },
  {
   "cell_type": "code",
   "execution_count": 4,
   "id": "132e9147",
   "metadata": {},
   "outputs": [
    {
     "name": "stdout",
     "output_type": "stream",
     "text": [
      "<class 'pandas.core.frame.DataFrame'>\n",
      "RangeIndex: 808 entries, 0 to 807\n",
      "Data columns (total 11 columns):\n",
      " #   Column      Non-Null Count  Dtype  \n",
      "---  ------      --------------  -----  \n",
      " 0   Unnamed: 0  808 non-null    int64  \n",
      " 1   id          808 non-null    int64  \n",
      " 2   time        808 non-null    int64  \n",
      " 3   roa         808 non-null    float64\n",
      " 4   mbo         808 non-null    int64  \n",
      " 5   cstratemph  808 non-null    float64\n",
      " 6   size        808 non-null    float64\n",
      " 7   htech       808 non-null    int64  \n",
      " 8   vertrel     808 non-null    float64\n",
      " 9   horizrel    808 non-null    float64\n",
      " 10  geo         808 non-null    float64\n",
      "dtypes: float64(6), int64(5)\n",
      "memory usage: 69.6 KB\n"
     ]
    }
   ],
   "source": [
    "df.info()"
   ]
  },
  {
   "cell_type": "code",
   "execution_count": null,
   "id": "bf877f43",
   "metadata": {},
   "outputs": [],
   "source": []
  },
  {
   "cell_type": "code",
   "execution_count": 5,
   "id": "69f987b8",
   "metadata": {},
   "outputs": [],
   "source": [
    "df['const'] = 1"
   ]
  },
  {
   "cell_type": "code",
   "execution_count": 6,
   "id": "cf27f3ce",
   "metadata": {},
   "outputs": [],
   "source": [
    "df.id = pd.Categorical(df.id)"
   ]
  },
  {
   "cell_type": "code",
   "execution_count": 7,
   "id": "16ae7cc4",
   "metadata": {},
   "outputs": [],
   "source": [
    "df = df.drop(columns='Unnamed: 0')"
   ]
  },
  {
   "cell_type": "code",
   "execution_count": null,
   "id": "7708be2a",
   "metadata": {},
   "outputs": [],
   "source": []
  },
  {
   "cell_type": "markdown",
   "id": "46d547e4",
   "metadata": {},
   "source": [
    "## Unconditional Mean Model"
   ]
  },
  {
   "cell_type": "code",
   "execution_count": 8,
   "id": "e9496931",
   "metadata": {
    "scrolled": true
   },
   "outputs": [],
   "source": [
    "uncnd_mean_model = sm.MixedLM.from_formula('cstratemph ~  1' , data = df, groups = df.id)\n",
    "# uncnd_mean_model = sm.MixedLM( exog= df[['const']], endog= df[['roa']], groups= df.id,)"
   ]
  },
  {
   "cell_type": "code",
   "execution_count": 9,
   "id": "a0bd9573",
   "metadata": {
    "scrolled": true
   },
   "outputs": [
    {
     "name": "stderr",
     "output_type": "stream",
     "text": [
      "C:\\Users\\Rasstin\\anaconda3\\lib\\site-packages\\statsmodels\\regression\\mixed_linear_model.py:2237: ConvergenceWarning: The MLE may be on the boundary of the parameter space.\n",
      "  warnings.warn(msg, ConvergenceWarning)\n"
     ]
    }
   ],
   "source": [
    "result1 = uncnd_mean_model.fit()"
   ]
  },
  {
   "cell_type": "code",
   "execution_count": 10,
   "id": "8016698c",
   "metadata": {},
   "outputs": [
    {
     "data": {
      "text/html": [
       "<table class=\"simpletable\">\n",
       "<tr>\n",
       "       <td>Model:</td>       <td>MixedLM</td> <td>Dependent Variable:</td> <td>cstratemph</td>\n",
       "</tr>\n",
       "<tr>\n",
       "  <td>No. Observations:</td>   <td>808</td>         <td>Method:</td>          <td>REML</td>   \n",
       "</tr>\n",
       "<tr>\n",
       "     <td>No. Groups:</td>      <td>187</td>         <td>Scale:</td>          <td>0.0433</td>  \n",
       "</tr>\n",
       "<tr>\n",
       "  <td>Min. group size:</td>     <td>1</td>      <td>Log-Likelihood:</td>     <td>66.9544</td> \n",
       "</tr>\n",
       "<tr>\n",
       "  <td>Max. group size:</td>     <td>5</td>        <td>Converged:</td>          <td>Yes</td>   \n",
       "</tr>\n",
       "<tr>\n",
       "  <td>Mean group size:</td>    <td>4.3</td>            <td></td>                <td></td>     \n",
       "</tr>\n",
       "</table>\n",
       "<table class=\"simpletable\">\n",
       "<tr>\n",
       "      <td></td>      <th>Coef.</th> <th>Std.Err.</th>   <th>z</th>   <th>P>|z|</th> <th>[0.025</th> <th>0.975]</th>\n",
       "</tr>\n",
       "<tr>\n",
       "  <th>Intercept</th> <td>0.011</td>   <td>0.010</td>  <td>1.117</td> <td>0.264</td> <td>-0.008</td>  <td>0.030</td>\n",
       "</tr>\n",
       "<tr>\n",
       "  <th>Group Var</th> <td>0.008</td>   <td>0.010</td>    <td></td>      <td></td>       <td></td>       <td></td>   \n",
       "</tr>\n",
       "</table>"
      ],
      "text/plain": [
       "<class 'statsmodels.iolib.summary2.Summary'>\n",
       "\"\"\"\n",
       "         Mixed Linear Model Regression Results\n",
       "========================================================\n",
       "Model:            MixedLM Dependent Variable: cstratemph\n",
       "No. Observations: 808     Method:             REML      \n",
       "No. Groups:       187     Scale:              0.0433    \n",
       "Min. group size:  1       Log-Likelihood:     66.9544   \n",
       "Max. group size:  5       Converged:          Yes       \n",
       "Mean group size:  4.3                                   \n",
       "---------------------------------------------------------\n",
       "            Coef.  Std.Err.    z    P>|z|  [0.025  0.975]\n",
       "---------------------------------------------------------\n",
       "Intercept   0.011     0.010  1.117  0.264  -0.008   0.030\n",
       "Group Var   0.008     0.010                              \n",
       "========================================================\n",
       "\n",
       "\"\"\""
      ]
     },
     "execution_count": 10,
     "metadata": {},
     "output_type": "execute_result"
    }
   ],
   "source": [
    "result1.summary()"
   ]
  },
  {
   "cell_type": "code",
   "execution_count": 11,
   "id": "9e60a784",
   "metadata": {},
   "outputs": [
    {
     "data": {
      "text/plain": [
       "0.03912799227645792"
      ]
     },
     "execution_count": 11,
     "metadata": {},
     "output_type": "execute_result"
    }
   ],
   "source": [
    "result1.resid.var()"
   ]
  },
  {
   "cell_type": "code",
   "execution_count": 12,
   "id": "889c0f32",
   "metadata": {},
   "outputs": [
    {
     "data": {
      "text/plain": [
       "0.1702127659574468"
      ]
     },
     "execution_count": 12,
     "metadata": {},
     "output_type": "execute_result"
    }
   ],
   "source": [
    "0.008 / (0.008 + 0.039)"
   ]
  },
  {
   "cell_type": "markdown",
   "id": "82e519e9",
   "metadata": {},
   "source": [
    "## Unconditional Mean Model with time random slope"
   ]
  },
  {
   "cell_type": "code",
   "execution_count": 13,
   "id": "67ddb760",
   "metadata": {
    "scrolled": true
   },
   "outputs": [],
   "source": [
    "uncnd_mean_model = sm.MixedLM.from_formula('cstratemph ~  1' , data = df, groups = df.id,re_formula='~time')\n",
    "# uncnd_mean_model = sm.MixedLM( exog= df[['const']], endog= df['cstratemph'], groups= df.id,exog_re= df.time)"
   ]
  },
  {
   "cell_type": "code",
   "execution_count": 14,
   "id": "69fc9084",
   "metadata": {
    "scrolled": true
   },
   "outputs": [
    {
     "name": "stderr",
     "output_type": "stream",
     "text": [
      "C:\\Users\\Rasstin\\anaconda3\\lib\\site-packages\\statsmodels\\base\\model.py:566: ConvergenceWarning: Maximum Likelihood optimization failed to converge. Check mle_retvals\n",
      "  warnings.warn(\"Maximum Likelihood optimization failed to \"\n",
      "C:\\Users\\Rasstin\\anaconda3\\lib\\site-packages\\statsmodels\\regression\\mixed_linear_model.py:2200: ConvergenceWarning: Retrying MixedLM optimization with lbfgs\n",
      "  warnings.warn(\n",
      "C:\\Users\\Rasstin\\anaconda3\\lib\\site-packages\\statsmodels\\regression\\mixed_linear_model.py:2237: ConvergenceWarning: The MLE may be on the boundary of the parameter space.\n",
      "  warnings.warn(msg, ConvergenceWarning)\n"
     ]
    }
   ],
   "source": [
    "result2 = uncnd_mean_model.fit()"
   ]
  },
  {
   "cell_type": "code",
   "execution_count": 15,
   "id": "917d413e",
   "metadata": {},
   "outputs": [
    {
     "data": {
      "text/html": [
       "<table class=\"simpletable\">\n",
       "<tr>\n",
       "       <td>Model:</td>       <td>MixedLM</td> <td>Dependent Variable:</td> <td>cstratemph</td>\n",
       "</tr>\n",
       "<tr>\n",
       "  <td>No. Observations:</td>   <td>808</td>         <td>Method:</td>          <td>REML</td>   \n",
       "</tr>\n",
       "<tr>\n",
       "     <td>No. Groups:</td>      <td>187</td>         <td>Scale:</td>          <td>0.0348</td>  \n",
       "</tr>\n",
       "<tr>\n",
       "  <td>Min. group size:</td>     <td>1</td>      <td>Log-Likelihood:</td>     <td>81.5361</td> \n",
       "</tr>\n",
       "<tr>\n",
       "  <td>Max. group size:</td>     <td>5</td>        <td>Converged:</td>          <td>Yes</td>   \n",
       "</tr>\n",
       "<tr>\n",
       "  <td>Mean group size:</td>    <td>4.3</td>            <td></td>                <td></td>     \n",
       "</tr>\n",
       "</table>\n",
       "<table class=\"simpletable\">\n",
       "<tr>\n",
       "          <td></td>          <th>Coef.</th> <th>Std.Err.</th>   <th>z</th>   <th>P>|z|</th> <th>[0.025</th> <th>0.975]</th>\n",
       "</tr>\n",
       "<tr>\n",
       "  <th>Intercept</th>         <td>0.015</td>   <td>0.010</td>  <td>1.422</td> <td>0.155</td> <td>-0.006</td>  <td>0.035</td>\n",
       "</tr>\n",
       "<tr>\n",
       "  <th>Group Var</th>         <td>0.045</td>   <td>0.057</td>    <td></td>      <td></td>       <td></td>       <td></td>   \n",
       "</tr>\n",
       "<tr>\n",
       "  <th>Group x time Cov</th> <td>-0.011</td>   <td>0.015</td>    <td></td>      <td></td>       <td></td>       <td></td>   \n",
       "</tr>\n",
       "<tr>\n",
       "  <th>time Var</th>          <td>0.003</td>   <td>0.005</td>    <td></td>      <td></td>       <td></td>       <td></td>   \n",
       "</tr>\n",
       "</table>"
      ],
      "text/plain": [
       "<class 'statsmodels.iolib.summary2.Summary'>\n",
       "\"\"\"\n",
       "          Mixed Linear Model Regression Results\n",
       "==========================================================\n",
       "Model:              MixedLM Dependent Variable: cstratemph\n",
       "No. Observations:   808     Method:             REML      \n",
       "No. Groups:         187     Scale:              0.0348    \n",
       "Min. group size:    1       Log-Likelihood:     81.5361   \n",
       "Max. group size:    5       Converged:          Yes       \n",
       "Mean group size:    4.3                                   \n",
       "----------------------------------------------------------\n",
       "                 Coef.  Std.Err.   z   P>|z| [0.025 0.975]\n",
       "----------------------------------------------------------\n",
       "Intercept         0.015    0.010 1.422 0.155 -0.006  0.035\n",
       "Group Var         0.045    0.057                          \n",
       "Group x time Cov -0.011    0.015                          \n",
       "time Var          0.003    0.005                          \n",
       "==========================================================\n",
       "\n",
       "\"\"\""
      ]
     },
     "execution_count": 15,
     "metadata": {},
     "output_type": "execute_result"
    }
   ],
   "source": [
    "result2.summary()"
   ]
  },
  {
   "cell_type": "code",
   "execution_count": 16,
   "id": "538db0b7",
   "metadata": {},
   "outputs": [
    {
     "data": {
      "text/plain": [
       "0.027399332099874163"
      ]
     },
     "execution_count": 16,
     "metadata": {},
     "output_type": "execute_result"
    }
   ],
   "source": [
    "result2.resid.var()"
   ]
  },
  {
   "cell_type": "code",
   "execution_count": null,
   "id": "2ece19b1",
   "metadata": {},
   "outputs": [],
   "source": []
  },
  {
   "cell_type": "markdown",
   "id": "e30912f6",
   "metadata": {},
   "source": [
    "## loglikelihood ratio test - for random slope"
   ]
  },
  {
   "cell_type": "code",
   "execution_count": 17,
   "id": "fbc32da2",
   "metadata": {},
   "outputs": [
    {
     "data": {
      "text/plain": [
       "(66.95442298945954, 81.53614189789687)"
      ]
     },
     "execution_count": 17,
     "metadata": {},
     "output_type": "execute_result"
    }
   ],
   "source": [
    "result1.llf,result2.llf"
   ]
  },
  {
   "cell_type": "code",
   "execution_count": 18,
   "id": "39ae5f76",
   "metadata": {},
   "outputs": [
    {
     "name": "stdout",
     "output_type": "stream",
     "text": [
      "29.163437816874648\n"
     ]
    },
    {
     "data": {
      "text/plain": [
       "4.6477198408146683e-07"
      ]
     },
     "execution_count": 18,
     "metadata": {},
     "output_type": "execute_result"
    }
   ],
   "source": [
    "#calculate likelihood ratio Chi-Squared test statistic\n",
    "LR_statistic = -2*(result1.llf-result2.llf)\n",
    "\n",
    "print(LR_statistic)\n",
    "\n",
    "#calculate p-value of test statistic using 2 degrees of freedom\n",
    "p_val = scipy.stats.chi2.sf(LR_statistic, 2)\n",
    "p_val"
   ]
  },
  {
   "cell_type": "markdown",
   "id": "86192394",
   "metadata": {},
   "source": [
    "## Unconditional Growth Model - Linear Growth"
   ]
  },
  {
   "cell_type": "code",
   "execution_count": 19,
   "id": "f91e2084",
   "metadata": {
    "scrolled": true
   },
   "outputs": [],
   "source": [
    "uncnd_growth_model = sm.MixedLM.from_formula('cstratemph ~  1 +time' , data = df, groups = df.id,re_formula='~time')\n",
    "# uncnd_growth_model = sm.MixedLM( exog= df[['const','time']], endog= df[['cstratemph']], groups= df.id)"
   ]
  },
  {
   "cell_type": "code",
   "execution_count": 20,
   "id": "26701510",
   "metadata": {
    "scrolled": true
   },
   "outputs": [
    {
     "name": "stderr",
     "output_type": "stream",
     "text": [
      "C:\\Users\\Rasstin\\anaconda3\\lib\\site-packages\\statsmodels\\base\\model.py:566: ConvergenceWarning: Maximum Likelihood optimization failed to converge. Check mle_retvals\n",
      "  warnings.warn(\"Maximum Likelihood optimization failed to \"\n",
      "C:\\Users\\Rasstin\\anaconda3\\lib\\site-packages\\statsmodels\\regression\\mixed_linear_model.py:2200: ConvergenceWarning: Retrying MixedLM optimization with lbfgs\n",
      "  warnings.warn(\n",
      "C:\\Users\\Rasstin\\anaconda3\\lib\\site-packages\\statsmodels\\regression\\mixed_linear_model.py:2237: ConvergenceWarning: The MLE may be on the boundary of the parameter space.\n",
      "  warnings.warn(msg, ConvergenceWarning)\n"
     ]
    }
   ],
   "source": [
    "result3 = uncnd_growth_model.fit()"
   ]
  },
  {
   "cell_type": "code",
   "execution_count": 21,
   "id": "4afa9400",
   "metadata": {},
   "outputs": [
    {
     "data": {
      "text/html": [
       "<table class=\"simpletable\">\n",
       "<tr>\n",
       "       <td>Model:</td>       <td>MixedLM</td> <td>Dependent Variable:</td> <td>cstratemph</td>\n",
       "</tr>\n",
       "<tr>\n",
       "  <td>No. Observations:</td>   <td>808</td>         <td>Method:</td>          <td>REML</td>   \n",
       "</tr>\n",
       "<tr>\n",
       "     <td>No. Groups:</td>      <td>187</td>         <td>Scale:</td>          <td>0.0339</td>  \n",
       "</tr>\n",
       "<tr>\n",
       "  <td>Min. group size:</td>     <td>1</td>      <td>Log-Likelihood:</td>     <td>82.7221</td> \n",
       "</tr>\n",
       "<tr>\n",
       "  <td>Max. group size:</td>     <td>5</td>        <td>Converged:</td>          <td>Yes</td>   \n",
       "</tr>\n",
       "<tr>\n",
       "  <td>Mean group size:</td>    <td>4.3</td>            <td></td>                <td></td>     \n",
       "</tr>\n",
       "</table>\n",
       "<table class=\"simpletable\">\n",
       "<tr>\n",
       "          <td></td>          <th>Coef.</th> <th>Std.Err.</th>    <th>z</th>   <th>P>|z|</th> <th>[0.025</th> <th>0.975]</th>\n",
       "</tr>\n",
       "<tr>\n",
       "  <th>Intercept</th>        <td>-0.050</td>   <td>0.022</td>  <td>-2.314</td> <td>0.021</td> <td>-0.092</td> <td>-0.008</td>\n",
       "</tr>\n",
       "<tr>\n",
       "  <th>time</th>              <td>0.021</td>   <td>0.006</td>   <td>3.405</td> <td>0.001</td>  <td>0.009</td>  <td>0.034</td>\n",
       "</tr>\n",
       "<tr>\n",
       "  <th>Group Var</th>         <td>0.044</td>   <td>0.058</td>     <td></td>      <td></td>       <td></td>       <td></td>   \n",
       "</tr>\n",
       "<tr>\n",
       "  <th>Group x time Cov</th> <td>-0.010</td>   <td>0.015</td>     <td></td>      <td></td>       <td></td>       <td></td>   \n",
       "</tr>\n",
       "<tr>\n",
       "  <th>time Var</th>          <td>0.003</td>   <td>0.005</td>     <td></td>      <td></td>       <td></td>       <td></td>   \n",
       "</tr>\n",
       "</table>"
      ],
      "text/plain": [
       "<class 'statsmodels.iolib.summary2.Summary'>\n",
       "\"\"\"\n",
       "           Mixed Linear Model Regression Results\n",
       "===========================================================\n",
       "Model:             MixedLM  Dependent Variable:  cstratemph\n",
       "No. Observations:  808      Method:              REML      \n",
       "No. Groups:        187      Scale:               0.0339    \n",
       "Min. group size:   1        Log-Likelihood:      82.7221   \n",
       "Max. group size:   5        Converged:           Yes       \n",
       "Mean group size:   4.3                                     \n",
       "-----------------------------------------------------------\n",
       "                 Coef.  Std.Err.   z    P>|z| [0.025 0.975]\n",
       "-----------------------------------------------------------\n",
       "Intercept        -0.050    0.022 -2.314 0.021 -0.092 -0.008\n",
       "time              0.021    0.006  3.405 0.001  0.009  0.034\n",
       "Group Var         0.044    0.058                           \n",
       "Group x time Cov -0.010    0.015                           \n",
       "time Var          0.003    0.005                           \n",
       "===========================================================\n",
       "\n",
       "\"\"\""
      ]
     },
     "execution_count": 21,
     "metadata": {},
     "output_type": "execute_result"
    }
   ],
   "source": [
    "result3.summary()"
   ]
  },
  {
   "cell_type": "code",
   "execution_count": null,
   "id": "a924ce97",
   "metadata": {},
   "outputs": [],
   "source": []
  },
  {
   "cell_type": "code",
   "execution_count": 22,
   "id": "79aedd72",
   "metadata": {},
   "outputs": [
    {
     "data": {
      "text/plain": [
       "0.02679639505956877"
      ]
     },
     "execution_count": 22,
     "metadata": {},
     "output_type": "execute_result"
    }
   ],
   "source": [
    "result3.resid.var()"
   ]
  },
  {
   "cell_type": "markdown",
   "id": "947fda24",
   "metadata": {},
   "source": [
    "## Unconditional Growth Model - Quadratic Growth"
   ]
  },
  {
   "cell_type": "code",
   "execution_count": 23,
   "id": "9c018e0e",
   "metadata": {},
   "outputs": [],
   "source": [
    "df['time_sq'] = df.time**2"
   ]
  },
  {
   "cell_type": "code",
   "execution_count": 24,
   "id": "bf16dbb7",
   "metadata": {
    "scrolled": true
   },
   "outputs": [],
   "source": [
    "uncnd_growth_model = sm.MixedLM.from_formula('cstratemph ~  1 + time + time_sq' , data = df, groups = df.id,re_formula='~time')\n",
    "# uncnd_growth_model = sm.MixedLM( exog= df[['const','time','time_sq']], endog= df[['cstratemph']], groups= df.id)"
   ]
  },
  {
   "cell_type": "code",
   "execution_count": 25,
   "id": "be133e89",
   "metadata": {
    "scrolled": true
   },
   "outputs": [
    {
     "name": "stderr",
     "output_type": "stream",
     "text": [
      "C:\\Users\\Rasstin\\anaconda3\\lib\\site-packages\\statsmodels\\base\\model.py:566: ConvergenceWarning: Maximum Likelihood optimization failed to converge. Check mle_retvals\n",
      "  warnings.warn(\"Maximum Likelihood optimization failed to \"\n",
      "C:\\Users\\Rasstin\\anaconda3\\lib\\site-packages\\statsmodels\\regression\\mixed_linear_model.py:2200: ConvergenceWarning: Retrying MixedLM optimization with lbfgs\n",
      "  warnings.warn(\n",
      "C:\\Users\\Rasstin\\anaconda3\\lib\\site-packages\\statsmodels\\base\\model.py:566: ConvergenceWarning: Maximum Likelihood optimization failed to converge. Check mle_retvals\n",
      "  warnings.warn(\"Maximum Likelihood optimization failed to \"\n",
      "C:\\Users\\Rasstin\\anaconda3\\lib\\site-packages\\statsmodels\\regression\\mixed_linear_model.py:2200: ConvergenceWarning: Retrying MixedLM optimization with cg\n",
      "  warnings.warn(\n",
      "C:\\Users\\Rasstin\\anaconda3\\lib\\site-packages\\statsmodels\\base\\model.py:566: ConvergenceWarning: Maximum Likelihood optimization failed to converge. Check mle_retvals\n",
      "  warnings.warn(\"Maximum Likelihood optimization failed to \"\n",
      "C:\\Users\\Rasstin\\anaconda3\\lib\\site-packages\\statsmodels\\regression\\mixed_linear_model.py:2206: ConvergenceWarning: MixedLM optimization failed, trying a different optimizer may help.\n",
      "  warnings.warn(msg, ConvergenceWarning)\n",
      "C:\\Users\\Rasstin\\anaconda3\\lib\\site-packages\\statsmodels\\regression\\mixed_linear_model.py:2218: ConvergenceWarning: Gradient optimization failed, |grad| = 31.397275\n",
      "  warnings.warn(msg, ConvergenceWarning)\n",
      "C:\\Users\\Rasstin\\anaconda3\\lib\\site-packages\\statsmodels\\regression\\mixed_linear_model.py:2237: ConvergenceWarning: The MLE may be on the boundary of the parameter space.\n",
      "  warnings.warn(msg, ConvergenceWarning)\n"
     ]
    }
   ],
   "source": [
    "result4 = uncnd_growth_model.fit()"
   ]
  },
  {
   "cell_type": "code",
   "execution_count": 26,
   "id": "e79caca0",
   "metadata": {},
   "outputs": [
    {
     "data": {
      "text/html": [
       "<table class=\"simpletable\">\n",
       "<tr>\n",
       "       <td>Model:</td>       <td>MixedLM</td> <td>Dependent Variable:</td> <td>cstratemph</td>\n",
       "</tr>\n",
       "<tr>\n",
       "  <td>No. Observations:</td>   <td>808</td>         <td>Method:</td>          <td>REML</td>   \n",
       "</tr>\n",
       "<tr>\n",
       "     <td>No. Groups:</td>      <td>187</td>         <td>Scale:</td>          <td>0.0341</td>  \n",
       "</tr>\n",
       "<tr>\n",
       "  <td>Min. group size:</td>     <td>1</td>      <td>Log-Likelihood:</td>     <td>78.3513</td> \n",
       "</tr>\n",
       "<tr>\n",
       "  <td>Max. group size:</td>     <td>5</td>        <td>Converged:</td>          <td>No</td>    \n",
       "</tr>\n",
       "<tr>\n",
       "  <td>Mean group size:</td>    <td>4.3</td>            <td></td>                <td></td>     \n",
       "</tr>\n",
       "</table>\n",
       "<table class=\"simpletable\">\n",
       "<tr>\n",
       "          <td></td>          <th>Coef.</th> <th>Std.Err.</th>    <th>z</th>   <th>P>|z|</th> <th>[0.025</th> <th>0.975]</th>\n",
       "</tr>\n",
       "<tr>\n",
       "  <th>Intercept</th>        <td>-0.064</td>   <td>0.034</td>  <td>-1.862</td> <td>0.063</td> <td>-0.131</td>  <td>0.003</td>\n",
       "</tr>\n",
       "<tr>\n",
       "  <th>time</th>              <td>0.033</td>   <td>0.024</td>   <td>1.390</td> <td>0.165</td> <td>-0.014</td>  <td>0.081</td>\n",
       "</tr>\n",
       "<tr>\n",
       "  <th>time_sq</th>          <td>-0.002</td>   <td>0.004</td>  <td>-0.520</td> <td>0.603</td> <td>-0.010</td>  <td>0.006</td>\n",
       "</tr>\n",
       "<tr>\n",
       "  <th>Group Var</th>         <td>0.044</td>   <td>0.058</td>     <td></td>      <td></td>       <td></td>       <td></td>   \n",
       "</tr>\n",
       "<tr>\n",
       "  <th>Group x time Cov</th> <td>-0.010</td>   <td>0.015</td>     <td></td>      <td></td>       <td></td>       <td></td>   \n",
       "</tr>\n",
       "<tr>\n",
       "  <th>time Var</th>          <td>0.003</td>   <td>0.005</td>     <td></td>      <td></td>       <td></td>       <td></td>   \n",
       "</tr>\n",
       "</table>"
      ],
      "text/plain": [
       "<class 'statsmodels.iolib.summary2.Summary'>\n",
       "\"\"\"\n",
       "           Mixed Linear Model Regression Results\n",
       "===========================================================\n",
       "Model:             MixedLM  Dependent Variable:  cstratemph\n",
       "No. Observations:  808      Method:              REML      \n",
       "No. Groups:        187      Scale:               0.0341    \n",
       "Min. group size:   1        Log-Likelihood:      78.3513   \n",
       "Max. group size:   5        Converged:           No        \n",
       "Mean group size:   4.3                                     \n",
       "-----------------------------------------------------------\n",
       "                 Coef.  Std.Err.   z    P>|z| [0.025 0.975]\n",
       "-----------------------------------------------------------\n",
       "Intercept        -0.064    0.034 -1.862 0.063 -0.131  0.003\n",
       "time              0.033    0.024  1.390 0.165 -0.014  0.081\n",
       "time_sq          -0.002    0.004 -0.520 0.603 -0.010  0.006\n",
       "Group Var         0.044    0.058                           \n",
       "Group x time Cov -0.010    0.015                           \n",
       "time Var          0.003    0.005                           \n",
       "===========================================================\n",
       "\n",
       "\"\"\""
      ]
     },
     "execution_count": 26,
     "metadata": {},
     "output_type": "execute_result"
    }
   ],
   "source": [
    "result4.summary()"
   ]
  },
  {
   "cell_type": "code",
   "execution_count": null,
   "id": "bab2a4bb",
   "metadata": {},
   "outputs": [],
   "source": []
  },
  {
   "cell_type": "code",
   "execution_count": 27,
   "id": "74b02551",
   "metadata": {},
   "outputs": [
    {
     "data": {
      "text/plain": [
       "0.026894012270635394"
      ]
     },
     "execution_count": 27,
     "metadata": {},
     "output_type": "execute_result"
    }
   ],
   "source": [
    "result4.resid.var()"
   ]
  },
  {
   "cell_type": "code",
   "execution_count": null,
   "id": "45ebb7a6",
   "metadata": {},
   "outputs": [],
   "source": []
  },
  {
   "cell_type": "markdown",
   "id": "9e9c956b",
   "metadata": {},
   "source": [
    "## loglikelihood ratio test - for Linear or Quadratic Growth"
   ]
  },
  {
   "cell_type": "code",
   "execution_count": 28,
   "id": "e725d2ab",
   "metadata": {},
   "outputs": [
    {
     "data": {
      "text/plain": [
       "(82.72212781432245, 78.35133573216535)"
      ]
     },
     "execution_count": 28,
     "metadata": {},
     "output_type": "execute_result"
    }
   ],
   "source": [
    "result3.llf , result4.llf"
   ]
  },
  {
   "cell_type": "code",
   "execution_count": 29,
   "id": "b0f629cd",
   "metadata": {},
   "outputs": [
    {
     "name": "stdout",
     "output_type": "stream",
     "text": [
      "-8.74158416431419\n"
     ]
    },
    {
     "data": {
      "text/plain": [
       "1.0"
      ]
     },
     "execution_count": 29,
     "metadata": {},
     "output_type": "execute_result"
    }
   ],
   "source": [
    "#calculate likelihood ratio Chi-Squared test statistic\n",
    "# reduced - full\n",
    "LR_statistic = -2*(result3.llf-result4.llf)\n",
    "\n",
    "print(LR_statistic)\n",
    "\n",
    "#calculate p-value of test statistic using 2 degrees of freedom\n",
    "p_val = scipy.stats.chi2.sf(LR_statistic, 1)\n",
    "p_val"
   ]
  },
  {
   "cell_type": "code",
   "execution_count": null,
   "id": "636b0626",
   "metadata": {},
   "outputs": [],
   "source": []
  },
  {
   "cell_type": "code",
   "execution_count": null,
   "id": "3e37cdfc",
   "metadata": {},
   "outputs": [],
   "source": []
  },
  {
   "cell_type": "code",
   "execution_count": 110,
   "id": "d31efca4",
   "metadata": {
    "scrolled": false
   },
   "outputs": [
    {
     "data": {
      "image/png": "[encoded data removed]",
      "text/plain": [
       "<Figure size 360x360 with 1 Axes>"
      ]
     },
     "metadata": {
      "needs_background": "light"
     },
     "output_type": "display_data"
    }
   ],
   "source": [
    "sns.lmplot(data=df,\n",
    "          x = 'time',\n",
    "          y='cstratemph',order= 1,\n",
    "          )\n",
    "plt.xticks(range(0,7))\n",
    "plt.show()"
   ]
  },
  {
   "cell_type": "code",
   "execution_count": 111,
   "id": "e0446ff0",
   "metadata": {},
   "outputs": [
    {
     "data": {
      "image/png": "[encoded data removed]",
      "text/plain": [
       "<Figure size 360x360 with 1 Axes>"
      ]
     },
     "metadata": {
      "needs_background": "light"
     },
     "output_type": "display_data"
    }
   ],
   "source": [
    "sns.lmplot(data=df,\n",
    "          x = 'time',\n",
    "          y='roa',order= 1,\n",
    "          )\n",
    "plt.xticks(range(0,7))\n",
    "plt.show()"
   ]
  },
  {
   "cell_type": "markdown",
   "id": "072185dc",
   "metadata": {},
   "source": [
    "## Conditional Growth Model - Linear Growth"
   ]
  },
  {
   "cell_type": "code",
   "execution_count": 87,
   "id": "5a6c7009",
   "metadata": {
    "scrolled": true
   },
   "outputs": [],
   "source": [
    "cnd_growth_model = sm.MixedLM.from_formula('cstratemph ~   time   + size + htech ' ,\n",
    "                                           data = df, groups = df.id,re_formula='~time')\n",
    "# cnd_growth_model = sm.MixedLM( exog= df[['const','time','mbo','size','htech']], endog= df[['cstratemph']], groups= df.id)"
   ]
  },
  {
   "cell_type": "code",
   "execution_count": 88,
   "id": "c48dbad1",
   "metadata": {
    "scrolled": true
   },
   "outputs": [
    {
     "name": "stderr",
     "output_type": "stream",
     "text": [
      "C:\\Users\\Rasstin\\anaconda3\\lib\\site-packages\\statsmodels\\base\\model.py:566: ConvergenceWarning: Maximum Likelihood optimization failed to converge. Check mle_retvals\n",
      "  warnings.warn(\"Maximum Likelihood optimization failed to \"\n",
      "C:\\Users\\Rasstin\\anaconda3\\lib\\site-packages\\statsmodels\\regression\\mixed_linear_model.py:2200: ConvergenceWarning: Retrying MixedLM optimization with lbfgs\n",
      "  warnings.warn(\n",
      "C:\\Users\\Rasstin\\anaconda3\\lib\\site-packages\\statsmodels\\regression\\mixed_linear_model.py:2237: ConvergenceWarning: The MLE may be on the boundary of the parameter space.\n",
      "  warnings.warn(msg, ConvergenceWarning)\n"
     ]
    }
   ],
   "source": [
    "result5 = cnd_growth_model.fit()"
   ]
  },
  {
   "cell_type": "code",
   "execution_count": 89,
   "id": "12a92e90",
   "metadata": {},
   "outputs": [
    {
     "data": {
      "text/html": [
       "<table class=\"simpletable\">\n",
       "<tr>\n",
       "       <td>Model:</td>       <td>MixedLM</td> <td>Dependent Variable:</td> <td>cstratemph</td>\n",
       "</tr>\n",
       "<tr>\n",
       "  <td>No. Observations:</td>   <td>808</td>         <td>Method:</td>          <td>REML</td>   \n",
       "</tr>\n",
       "<tr>\n",
       "     <td>No. Groups:</td>      <td>187</td>         <td>Scale:</td>          <td>0.0344</td>  \n",
       "</tr>\n",
       "<tr>\n",
       "  <td>Min. group size:</td>     <td>1</td>      <td>Log-Likelihood:</td>     <td>76.9611</td> \n",
       "</tr>\n",
       "<tr>\n",
       "  <td>Max. group size:</td>     <td>5</td>        <td>Converged:</td>          <td>Yes</td>   \n",
       "</tr>\n",
       "<tr>\n",
       "  <td>Mean group size:</td>    <td>4.3</td>            <td></td>                <td></td>     \n",
       "</tr>\n",
       "</table>\n",
       "<table class=\"simpletable\">\n",
       "<tr>\n",
       "          <td></td>          <th>Coef.</th> <th>Std.Err.</th>    <th>z</th>   <th>P>|z|</th> <th>[0.025</th> <th>0.975]</th>\n",
       "</tr>\n",
       "<tr>\n",
       "  <th>Intercept</th>        <td>-0.063</td>   <td>0.025</td>  <td>-2.499</td> <td>0.012</td> <td>-0.113</td> <td>-0.014</td>\n",
       "</tr>\n",
       "<tr>\n",
       "  <th>time</th>              <td>0.021</td>   <td>0.006</td>   <td>3.275</td> <td>0.001</td>  <td>0.008</td>  <td>0.033</td>\n",
       "</tr>\n",
       "<tr>\n",
       "  <th>size</th>              <td>0.006</td>   <td>0.005</td>   <td>1.106</td> <td>0.269</td> <td>-0.005</td>  <td>0.017</td>\n",
       "</tr>\n",
       "<tr>\n",
       "  <th>htech</th>             <td>0.024</td>   <td>0.021</td>   <td>1.139</td> <td>0.255</td> <td>-0.017</td>  <td>0.064</td>\n",
       "</tr>\n",
       "<tr>\n",
       "  <th>Group Var</th>         <td>0.045</td>   <td>0.059</td>     <td></td>      <td></td>       <td></td>       <td></td>   \n",
       "</tr>\n",
       "<tr>\n",
       "  <th>Group x time Cov</th> <td>-0.011</td>   <td>0.016</td>     <td></td>      <td></td>       <td></td>       <td></td>   \n",
       "</tr>\n",
       "<tr>\n",
       "  <th>time Var</th>          <td>0.003</td>   <td>0.005</td>     <td></td>      <td></td>       <td></td>       <td></td>   \n",
       "</tr>\n",
       "</table>"
      ],
      "text/plain": [
       "<class 'statsmodels.iolib.summary2.Summary'>\n",
       "\"\"\"\n",
       "           Mixed Linear Model Regression Results\n",
       "===========================================================\n",
       "Model:             MixedLM  Dependent Variable:  cstratemph\n",
       "No. Observations:  808      Method:              REML      \n",
       "No. Groups:        187      Scale:               0.0344    \n",
       "Min. group size:   1        Log-Likelihood:      76.9611   \n",
       "Max. group size:   5        Converged:           Yes       \n",
       "Mean group size:   4.3                                     \n",
       "-----------------------------------------------------------\n",
       "                 Coef.  Std.Err.   z    P>|z| [0.025 0.975]\n",
       "-----------------------------------------------------------\n",
       "Intercept        -0.063    0.025 -2.499 0.012 -0.113 -0.014\n",
       "time              0.021    0.006  3.275 0.001  0.008  0.033\n",
       "size              0.006    0.005  1.106 0.269 -0.005  0.017\n",
       "htech             0.024    0.021  1.139 0.255 -0.017  0.064\n",
       "Group Var         0.045    0.059                           \n",
       "Group x time Cov -0.011    0.016                           \n",
       "time Var          0.003    0.005                           \n",
       "===========================================================\n",
       "\n",
       "\"\"\""
      ]
     },
     "execution_count": 89,
     "metadata": {},
     "output_type": "execute_result"
    }
   ],
   "source": [
    "result5.summary()"
   ]
  },
  {
   "cell_type": "code",
   "execution_count": 90,
   "id": "3c322083",
   "metadata": {},
   "outputs": [
    {
     "data": {
      "text/plain": [
       "0.027151998696849575"
      ]
     },
     "execution_count": 90,
     "metadata": {},
     "output_type": "execute_result"
    }
   ],
   "source": [
    "result5.resid.var()"
   ]
  },
  {
   "cell_type": "code",
   "execution_count": null,
   "id": "e5d91039",
   "metadata": {},
   "outputs": [],
   "source": []
  },
  {
   "cell_type": "code",
   "execution_count": null,
   "id": "4940be4f",
   "metadata": {},
   "outputs": [],
   "source": []
  },
  {
   "cell_type": "code",
   "execution_count": 91,
   "id": "6e66d9d1",
   "metadata": {
    "scrolled": true
   },
   "outputs": [],
   "source": [
    "cnd_growth_model = sm.MixedLM.from_formula('cstratemph ~   time + mbo + time * mbo + size + htech ' ,\n",
    "                                           data = df, groups = df.id,re_formula='~time')\n",
    "# cnd_growth_model = sm.MixedLM( exog= df[['const','time','mbo','size','htech']], endog= df[['cstratemph']], groups= df.id)"
   ]
  },
  {
   "cell_type": "code",
   "execution_count": 92,
   "id": "9dc35fc2",
   "metadata": {
    "scrolled": true
   },
   "outputs": [
    {
     "name": "stderr",
     "output_type": "stream",
     "text": [
      "C:\\Users\\Rasstin\\anaconda3\\lib\\site-packages\\statsmodels\\base\\model.py:566: ConvergenceWarning: Maximum Likelihood optimization failed to converge. Check mle_retvals\n",
      "  warnings.warn(\"Maximum Likelihood optimization failed to \"\n",
      "C:\\Users\\Rasstin\\anaconda3\\lib\\site-packages\\statsmodels\\regression\\mixed_linear_model.py:2200: ConvergenceWarning: Retrying MixedLM optimization with lbfgs\n",
      "  warnings.warn(\n",
      "C:\\Users\\Rasstin\\anaconda3\\lib\\site-packages\\statsmodels\\regression\\mixed_linear_model.py:2237: ConvergenceWarning: The MLE may be on the boundary of the parameter space.\n",
      "  warnings.warn(msg, ConvergenceWarning)\n"
     ]
    }
   ],
   "source": [
    "result6 = cnd_growth_model.fit()"
   ]
  },
  {
   "cell_type": "code",
   "execution_count": 93,
   "id": "2c8a933b",
   "metadata": {},
   "outputs": [
    {
     "data": {
      "text/html": [
       "<table class=\"simpletable\">\n",
       "<tr>\n",
       "       <td>Model:</td>       <td>MixedLM</td> <td>Dependent Variable:</td> <td>cstratemph</td>\n",
       "</tr>\n",
       "<tr>\n",
       "  <td>No. Observations:</td>   <td>808</td>         <td>Method:</td>          <td>REML</td>   \n",
       "</tr>\n",
       "<tr>\n",
       "     <td>No. Groups:</td>      <td>187</td>         <td>Scale:</td>          <td>0.0342</td>  \n",
       "</tr>\n",
       "<tr>\n",
       "  <td>Min. group size:</td>     <td>1</td>      <td>Log-Likelihood:</td>     <td>72.1136</td> \n",
       "</tr>\n",
       "<tr>\n",
       "  <td>Max. group size:</td>     <td>5</td>        <td>Converged:</td>          <td>Yes</td>   \n",
       "</tr>\n",
       "<tr>\n",
       "  <td>Mean group size:</td>    <td>4.3</td>            <td></td>                <td></td>     \n",
       "</tr>\n",
       "</table>\n",
       "<table class=\"simpletable\">\n",
       "<tr>\n",
       "          <td></td>          <th>Coef.</th> <th>Std.Err.</th>    <th>z</th>   <th>P>|z|</th> <th>[0.025</th> <th>0.975]</th>\n",
       "</tr>\n",
       "<tr>\n",
       "  <th>Intercept</th>        <td>-0.033</td>   <td>0.031</td>  <td>-1.047</td> <td>0.295</td> <td>-0.094</td>  <td>0.029</td>\n",
       "</tr>\n",
       "<tr>\n",
       "  <th>time</th>              <td>0.012</td>   <td>0.008</td>   <td>1.570</td> <td>0.117</td> <td>-0.003</td>  <td>0.028</td>\n",
       "</tr>\n",
       "<tr>\n",
       "  <th>mbo</th>              <td>-0.077</td>   <td>0.044</td>  <td>-1.737</td> <td>0.082</td> <td>-0.164</td>  <td>0.010</td>\n",
       "</tr>\n",
       "<tr>\n",
       "  <th>time:mbo</th>          <td>0.022</td>   <td>0.013</td>   <td>1.700</td> <td>0.089</td> <td>-0.003</td>  <td>0.048</td>\n",
       "</tr>\n",
       "<tr>\n",
       "  <th>size</th>              <td>0.006</td>   <td>0.006</td>   <td>1.023</td> <td>0.306</td> <td>-0.005</td>  <td>0.017</td>\n",
       "</tr>\n",
       "<tr>\n",
       "  <th>htech</th>             <td>0.022</td>   <td>0.021</td>   <td>1.045</td> <td>0.296</td> <td>-0.020</td>  <td>0.064</td>\n",
       "</tr>\n",
       "<tr>\n",
       "  <th>Group Var</th>         <td>0.044</td>   <td>0.058</td>     <td></td>      <td></td>       <td></td>       <td></td>   \n",
       "</tr>\n",
       "<tr>\n",
       "  <th>Group x time Cov</th> <td>-0.010</td>   <td>0.015</td>     <td></td>      <td></td>       <td></td>       <td></td>   \n",
       "</tr>\n",
       "<tr>\n",
       "  <th>time Var</th>          <td>0.003</td>   <td>0.005</td>     <td></td>      <td></td>       <td></td>       <td></td>   \n",
       "</tr>\n",
       "</table>"
      ],
      "text/plain": [
       "<class 'statsmodels.iolib.summary2.Summary'>\n",
       "\"\"\"\n",
       "           Mixed Linear Model Regression Results\n",
       "===========================================================\n",
       "Model:             MixedLM  Dependent Variable:  cstratemph\n",
       "No. Observations:  808      Method:              REML      \n",
       "No. Groups:        187      Scale:               0.0342    \n",
       "Min. group size:   1        Log-Likelihood:      72.1136   \n",
       "Max. group size:   5        Converged:           Yes       \n",
       "Mean group size:   4.3                                     \n",
       "-----------------------------------------------------------\n",
       "                 Coef.  Std.Err.   z    P>|z| [0.025 0.975]\n",
       "-----------------------------------------------------------\n",
       "Intercept        -0.033    0.031 -1.047 0.295 -0.094  0.029\n",
       "time              0.012    0.008  1.570 0.117 -0.003  0.028\n",
       "mbo              -0.077    0.044 -1.737 0.082 -0.164  0.010\n",
       "time:mbo          0.022    0.013  1.700 0.089 -0.003  0.048\n",
       "size              0.006    0.006  1.023 0.306 -0.005  0.017\n",
       "htech             0.022    0.021  1.045 0.296 -0.020  0.064\n",
       "Group Var         0.044    0.058                           \n",
       "Group x time Cov -0.010    0.015                           \n",
       "time Var          0.003    0.005                           \n",
       "===========================================================\n",
       "\n",
       "\"\"\""
      ]
     },
     "execution_count": 93,
     "metadata": {},
     "output_type": "execute_result"
    }
   ],
   "source": [
    "result6.summary()"
   ]
  },
  {
   "cell_type": "code",
   "execution_count": 94,
   "id": "b9c7ee6e",
   "metadata": {},
   "outputs": [
    {
     "data": {
      "text/plain": [
       "0.026926592009230036"
      ]
     },
     "execution_count": 94,
     "metadata": {},
     "output_type": "execute_result"
    }
   ],
   "source": [
    "result6.resid.var()"
   ]
  },
  {
   "cell_type": "code",
   "execution_count": 95,
   "id": "c68eb48e",
   "metadata": {},
   "outputs": [],
   "source": [
    "# result.summary().as_latex()"
   ]
  },
  {
   "cell_type": "code",
   "execution_count": 96,
   "id": "6b0c55cc",
   "metadata": {},
   "outputs": [],
   "source": [
    "from statsmodels.iolib.summary2 import summary_col"
   ]
  },
  {
   "cell_type": "code",
   "execution_count": 97,
   "id": "cf7a62e2",
   "metadata": {},
   "outputs": [],
   "source": [
    "temp = summary_col([result5,result6],\n",
    "                  model_names=['Model 1','Model 2'],\n",
    "                  \n",
    "                  stars=True,\n",
    "                  regressor_order=['Intercept','mbo','time','time:mbo','size','htech','time Var','Group Var'])"
   ]
  },
  {
   "cell_type": "code",
   "execution_count": 98,
   "id": "73f7766d",
   "metadata": {},
   "outputs": [],
   "source": [
    "# temp.title = 'Strategic Emphasis'"
   ]
  },
  {
   "cell_type": "code",
   "execution_count": 99,
   "id": "cba90287",
   "metadata": {},
   "outputs": [],
   "source": [
    "# temp.add_title('Strategic Emphasis')"
   ]
  },
  {
   "cell_type": "code",
   "execution_count": 100,
   "id": "90a5bc74",
   "metadata": {},
   "outputs": [
    {
     "data": {
      "text/html": [
       "<table class=\"simpletable\">\n",
       "<tr>\n",
       "          <td></td>           <th>Model 1</th>    <th>Model 2</th> \n",
       "</tr>\n",
       "<tr>\n",
       "  <th>Intercept</th>         <td>-0.0635**</td>   <td>-0.0327</td> \n",
       "</tr>\n",
       "<tr>\n",
       "  <th></th>                  <td>(0.0254)</td>   <td>(0.0313)</td> \n",
       "</tr>\n",
       "<tr>\n",
       "  <th>mbo</th>                   <td></td>       <td>-0.0769*</td> \n",
       "</tr>\n",
       "<tr>\n",
       "  <th></th>                      <td></td>       <td>(0.0443)</td> \n",
       "</tr>\n",
       "<tr>\n",
       "  <th>time</th>              <td>0.0208***</td>   <td>0.0125</td>  \n",
       "</tr>\n",
       "<tr>\n",
       "  <th></th>                  <td>(0.0064)</td>   <td>(0.0079)</td> \n",
       "</tr>\n",
       "<tr>\n",
       "  <th>time:mbo</th>              <td></td>        <td>0.0221*</td> \n",
       "</tr>\n",
       "<tr>\n",
       "  <th></th>                      <td></td>       <td>(0.0130)</td> \n",
       "</tr>\n",
       "<tr>\n",
       "  <th>size</th>               <td>0.0061</td>     <td>0.0058</td>  \n",
       "</tr>\n",
       "<tr>\n",
       "  <th></th>                  <td>(0.0055)</td>   <td>(0.0056)</td> \n",
       "</tr>\n",
       "<tr>\n",
       "  <th>htech</th>              <td>0.0237</td>     <td>0.0224</td>  \n",
       "</tr>\n",
       "<tr>\n",
       "  <th></th>                  <td>(0.0208)</td>   <td>(0.0214)</td> \n",
       "</tr>\n",
       "<tr>\n",
       "  <th>time Var</th>          <td>0.0909***</td>  <td>0.0873***</td>\n",
       "</tr>\n",
       "<tr>\n",
       "  <th></th>                  <td>(0.0255)</td>   <td>(0.0249)</td> \n",
       "</tr>\n",
       "<tr>\n",
       "  <th>Group Var</th>         <td>1.3011***</td>  <td>1.2741***</td>\n",
       "</tr>\n",
       "<tr>\n",
       "  <th></th>                  <td>(0.3157)</td>   <td>(0.3133)</td> \n",
       "</tr>\n",
       "<tr>\n",
       "  <th>Group x time Cov</th> <td>-0.3065***</td> <td>-0.2928***</td>\n",
       "</tr>\n",
       "<tr>\n",
       "  <th></th>                  <td>(0.0838)</td>   <td>(0.0819)</td> \n",
       "</tr>\n",
       "</table>"
      ],
      "text/plain": [
       "<class 'statsmodels.iolib.summary2.Summary'>\n",
       "\"\"\"\n",
       "\n",
       "======================================\n",
       "                  Model 1    Model 2  \n",
       "--------------------------------------\n",
       "Intercept        -0.0635**  -0.0327   \n",
       "                 (0.0254)   (0.0313)  \n",
       "mbo                         -0.0769*  \n",
       "                            (0.0443)  \n",
       "time             0.0208***  0.0125    \n",
       "                 (0.0064)   (0.0079)  \n",
       "time:mbo                    0.0221*   \n",
       "                            (0.0130)  \n",
       "size             0.0061     0.0058    \n",
       "                 (0.0055)   (0.0056)  \n",
       "htech            0.0237     0.0224    \n",
       "                 (0.0208)   (0.0214)  \n",
       "time Var         0.0909***  0.0873*** \n",
       "                 (0.0255)   (0.0249)  \n",
       "Group Var        1.3011***  1.2741*** \n",
       "                 (0.3157)   (0.3133)  \n",
       "Group x time Cov -0.3065*** -0.2928***\n",
       "                 (0.0838)   (0.0819)  \n",
       "======================================\n",
       "Standard errors in parentheses.\n",
       "* p<.1, ** p<.05, ***p<.01\n",
       "\"\"\""
      ]
     },
     "execution_count": 100,
     "metadata": {},
     "output_type": "execute_result"
    }
   ],
   "source": [
    "temp"
   ]
  },
  {
   "cell_type": "code",
   "execution_count": 101,
   "id": "ab306326",
   "metadata": {},
   "outputs": [
    {
     "data": {
      "text/plain": [
       "(-153.92226880206817, -144.2272053148581)"
      ]
     },
     "execution_count": 101,
     "metadata": {},
     "output_type": "execute_result"
    }
   ],
   "source": [
    "result5.llf*-2,result6.llf*-2"
   ]
  },
  {
   "cell_type": "code",
   "execution_count": 102,
   "id": "197879af",
   "metadata": {},
   "outputs": [
    {
     "data": {
      "text/plain": [
       "-9.695063487210064"
      ]
     },
     "execution_count": 102,
     "metadata": {},
     "output_type": "execute_result"
    }
   ],
   "source": [
    "result5.llf*-2 - result6.llf*-2"
   ]
  },
  {
   "cell_type": "code",
   "execution_count": 103,
   "id": "4f14fa7f",
   "metadata": {},
   "outputs": [
    {
     "name": "stdout",
     "output_type": "stream",
     "text": [
      "-9.695063487210064\n"
     ]
    },
    {
     "data": {
      "text/plain": [
       "1.0"
      ]
     },
     "execution_count": 103,
     "metadata": {},
     "output_type": "execute_result"
    }
   ],
   "source": [
    "#calculate likelihood ratio Chi-Squared test statistic\n",
    "# reduced - full\n",
    "LR_statistic = -2*(result5.llf-result6.llf)\n",
    "\n",
    "print(LR_statistic)\n",
    "\n",
    "#calculate p-value of test statistic using 2 degrees of freedom\n",
    "p_val = scipy.stats.chi2.sf(LR_statistic, 2)\n",
    "p_val"
   ]
  },
  {
   "cell_type": "code",
   "execution_count": null,
   "id": "6986fe0c",
   "metadata": {},
   "outputs": [],
   "source": []
  },
  {
   "cell_type": "code",
   "execution_count": 63,
   "id": "32dabb1f",
   "metadata": {},
   "outputs": [
    {
     "data": {
      "text/plain": [
       "[                   0           1           2\n",
       " 0                NaN     Model 1     Model 2\n",
       " 1          Intercept   -0.0579**     -0.0327\n",
       " 2                NaN    (0.0275)    (0.0313)\n",
       " 3                mbo     -0.0110    -0.0769*\n",
       " 4                NaN    (0.0211)    (0.0443)\n",
       " 5               time   0.0207***      0.0125\n",
       " 6                NaN    (0.0063)    (0.0079)\n",
       " 7           time:mbo         NaN     0.0221*\n",
       " 8                NaN         NaN    (0.0130)\n",
       " 9               size      0.0058      0.0058\n",
       " 10               NaN    (0.0055)    (0.0056)\n",
       " 11             htech      0.0220      0.0224\n",
       " 12               NaN    (0.0211)    (0.0214)\n",
       " 13          time Var   0.0894***   0.0873***\n",
       " 14               NaN    (0.0251)    (0.0249)\n",
       " 15         Group Var   1.2719***   1.2741***\n",
       " 16               NaN    (0.3104)    (0.3133)\n",
       " 17  Group x time Cov  -0.2991***  -0.2928***\n",
       " 18               NaN    (0.0822)    (0.0819)]"
      ]
     },
     "execution_count": 63,
     "metadata": {},
     "output_type": "execute_result"
    }
   ],
   "source": [
    "pd.read_html(temp.as_html())"
   ]
  },
  {
   "cell_type": "code",
   "execution_count": 43,
   "id": "43c3e05a",
   "metadata": {},
   "outputs": [
    {
     "name": "stdout",
     "output_type": "stream",
     "text": [
      "\n",
      "======================================\n",
      "                     1          2     \n",
      "--------------------------------------\n",
      "Intercept        -0.0579**  -0.0327   \n",
      "                 (0.0275)   (0.0313)  \n",
      "mbo              -0.0110    -0.0769*  \n",
      "                 (0.0211)   (0.0443)  \n",
      "time             0.0207***  0.0125    \n",
      "                 (0.0063)   (0.0079)  \n",
      "time:mbo                    0.0221*   \n",
      "                            (0.0130)  \n",
      "size             0.0058     0.0058    \n",
      "                 (0.0055)   (0.0056)  \n",
      "htech            0.0220     0.0224    \n",
      "                 (0.0211)   (0.0214)  \n",
      "time Var         0.0894***  0.0873*** \n",
      "                 (0.0251)   (0.0249)  \n",
      "Group Var        1.2719***  1.2741*** \n",
      "                 (0.3104)   (0.3133)  \n",
      "Group x time Cov -0.2991*** -0.2928***\n",
      "                 (0.0822)   (0.0819)  \n",
      "======================================\n",
      "Standard errors in parentheses.\n",
      "* p<.1, ** p<.05, ***p<.01\n"
     ]
    }
   ],
   "source": [
    "print(summary_col([result5,result6],\n",
    "                  model_names=['1','2'],\n",
    "                  \n",
    "                  stars=True,\n",
    "                  regressor_order=['Intercept','mbo','time','time:mbo','size','htech','time Var','Group Var']))"
   ]
  }
 ],
 "metadata": {
  "kernelspec": {
   "display_name": "Python 3 (ipykernel)",
   "language": "python",
   "name": "python3"
  },
  "language_info": {
   "codemirror_mode": {
    "name": "ipython",
    "version": 3
   },
   "file_extension": ".py",
   "mimetype": "text/x-python",
   "name": "python",
   "nbconvert_exporter": "python",
   "pygments_lexer": "ipython3",
   "version": "3.9.12"
  }
 },
 "nbformat": 4,
 "nbformat_minor": 5
}
